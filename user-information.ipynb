{
 "cells": [
  {
   "cell_type": "code",
   "execution_count": 2,
   "id": "0bab7b5e",
   "metadata": {},
   "outputs": [
    {
     "data": {
      "text/plain": [
       "{'1': {'User name': 'Dhanush',\n",
       "  'phone number': 7013879188,\n",
       "  'Email id': 'Dhanushlolugu4@gmail.com',\n",
       "  'Address': 'New Adarsh ColonyBIDAR',\n",
       "  'Password': 'sud000100'}}"
      ]
     },
     "execution_count": 2,
     "metadata": {},
     "output_type": "execute_result"
    }
   ],
   "source": [
    "{\n",
    "  \"1\": {\n",
    "    \"User name\": \"Dhanush\",\n",
    "    \"phone number\": 7013879188,\n",
    "    \"Email id\": \"Dhanushlolugu4@gmail.com\",\n",
    "    \"Address\": \"Bangalore\",\n",
    "    \"Password\": \"danush000100\"\n",
    "  }\n",
    "}\n",
    "{\"1\": {\"User name\": \"Dhanush\", \"phone number\": 7013879188, \"Email id\": \"Dhanushlolugu4@gmail.com\", \"Address\": \"New Adarsh ColonyBIDAR\", \"Password\": \"sud000100\"}}"
   ]
  },
  {
   "cell_type": "code",
   "execution_count": null,
   "id": "3c933cc1",
   "metadata": {},
   "outputs": [],
   "source": []
  }
 ],
 "metadata": {
  "kernelspec": {
   "display_name": "Python 3 (ipykernel)",
   "language": "python",
   "name": "python3"
  },
  "language_info": {
   "codemirror_mode": {
    "name": "ipython",
    "version": 3
   },
   "file_extension": ".py",
   "mimetype": "text/x-python",
   "name": "python",
   "nbconvert_exporter": "python",
   "pygments_lexer": "ipython3",
   "version": "3.10.9"
  }
 },
 "nbformat": 4,
 "nbformat_minor": 5
}
